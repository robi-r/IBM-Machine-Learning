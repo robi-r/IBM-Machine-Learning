{
 "cells": [
  {
   "cell_type": "code",
   "execution_count": null,
   "metadata": {},
   "outputs": [],
   "source": [
    "#import library\n",
    "import pandas as pd\n",
    "df = pd.read_csv('D:\\CSE Stuffs\\IBM Machine Learning\\Exploratory Data Analysis for Machine Learning\\module 2\\data\\Pokemon.csv')\n",
    "print(df.tail(1))"
   ]
  },
  {
   "cell_type": "markdown",
   "metadata": {},
   "source": [
    "Reading Data in Pandas"
   ]
  },
  {
   "cell_type": "code",
   "execution_count": null,
   "metadata": {},
   "outputs": [],
   "source": [
    "#read headers\n",
    "#print(df.columns)\n",
    "\n",
    "#read each columns\n",
    "#print(df[['Name', 'Type 1']])\n",
    "\n",
    "#read each row\n",
    "#print(df.iloc[0:5])\n",
    "#for index, row in df.iterrows():\n",
    "  #  print(index, row['Name'])\n",
    "\n",
    "df.loc[df['Type 1'] == 'Fire']    \n",
    "\n",
    "#Read position\n",
    "#print(df.iloc[5,1])"
   ]
  },
  {
   "cell_type": "markdown",
   "metadata": {},
   "source": [
    "Sorting and Describing Data"
   ]
  },
  {
   "cell_type": "code",
   "execution_count": null,
   "metadata": {},
   "outputs": [],
   "source": [
    "#df.describe()\n",
    "\n",
    "df.sort_values(['Type 1', 'HP'], ascending = [1,0])"
   ]
  },
  {
   "cell_type": "markdown",
   "metadata": {},
   "source": [
    "Making Changes to the Data"
   ]
  },
  {
   "cell_type": "code",
   "execution_count": null,
   "metadata": {},
   "outputs": [],
   "source": [
    "#Add a column\n",
    "#df['Total'] = df['HP'] + df['Attack'] + df['Defense']\n",
    "\n",
    "#Remove the column\n",
    "#df = df.drop(columns=['Total'])\n",
    "\n",
    "df['Total'] = df.iloc[:, 4:10].sum(axis = 1)\n",
    "\n",
    "cols = list(df.columns.values)\n",
    "df = df[cols[0:4] + [cols[-1]] + cols[4:12]]\n",
    "df.columns"
   ]
  },
  {
   "cell_type": "markdown",
   "metadata": {},
   "source": [
    "Saving the new Dataframe"
   ]
  },
  {
   "cell_type": "code",
   "execution_count": null,
   "metadata": {},
   "outputs": [],
   "source": [
    "df.to_csv('modified.csv')"
   ]
  },
  {
   "cell_type": "markdown",
   "metadata": {},
   "source": [
    "Filtering Data"
   ]
  },
  {
   "cell_type": "code",
   "execution_count": null,
   "metadata": {},
   "outputs": [],
   "source": [
    "import re\n",
    "\n",
    "#df.loc[(df['Type 1'] == 'Grass') | (df['Type 2'] == 'Poison') & (df['Defense']) < 100]\n",
    "#new_df.to_csv('')\n",
    "#new_df = new_df.reset_index(drop = True, inplace = true)\n",
    "\n",
    "df.loc[df['Name'].str.contains('Mega')]\n",
    "df.loc[df['Name'].str.contains('Mega')]\n",
    "\n",
    "df.loc[df['Type 1'].str.contains('fire|grass', flags = re.I, regex = True)]"
   ]
  },
  {
   "cell_type": "markdown",
   "metadata": {},
   "source": [
    "Coditionals"
   ]
  },
  {
   "cell_type": "code",
   "execution_count": null,
   "metadata": {},
   "outputs": [],
   "source": [
    "df.loc[df['Type 1'] == 'Fire', 'Legendary'] = 'Flamer'"
   ]
  },
  {
   "cell_type": "markdown",
   "metadata": {},
   "source": [
    "Aggregate Statistics"
   ]
  },
  {
   "cell_type": "code",
   "execution_count": null,
   "metadata": {},
   "outputs": [],
   "source": [
    "df.groupby(['Type 1']).mean().sort_values('Defense', ascending = False)"
   ]
  },
  {
   "cell_type": "markdown",
   "metadata": {},
   "source": [
    "Working with large chunk of data"
   ]
  },
  {
   "cell_type": "code",
   "execution_count": null,
   "metadata": {},
   "outputs": [],
   "source": [
    "for df in pd.read_csv('modified.csv', chunksize = 5):\n",
    "    "
   ]
  }
 ],
 "metadata": {
  "kernelspec": {
   "display_name": "Python 3",
   "language": "python",
   "name": "python3"
  },
  "language_info": {
   "codemirror_mode": {
    "name": "ipython",
    "version": 3
   },
   "file_extension": ".py",
   "mimetype": "text/x-python",
   "name": "python",
   "nbconvert_exporter": "python",
   "pygments_lexer": "ipython3",
   "version": "3.12.4"
  }
 },
 "nbformat": 4,
 "nbformat_minor": 2
}
